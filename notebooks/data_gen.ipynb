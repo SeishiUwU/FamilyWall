{
 "cells": [
  {
   "cell_type": "markdown",
   "id": "c14f6ced",
   "metadata": {},
   "source": [
    "# Synthetic Dataset Generation for Domain Name Suggestions\n",
    "\n",
    "## Objective\n",
    "Generate a synthetic dataset mapping business descriptions to domain name suggestions for LLM fine-tuning.\n",
    "\n",
    "## Features\n",
    "- Diverse business categories (Food, Tech, Education, etc.)\n",
    "- Randomized geographic locations\n",
    "- Multiple domain suffixes\n",
    "- Supports JSON and CSV export\n",
    "\n",
    "## Improvements Added\n",
    "- Stopword removal for cleaner names\n",
    "- Brand-style domain suggestions\n",
    "- Edge cases: short, long, and ambiguous descriptions\n",
    "- Safety filter for inappropriate content"
   ]
  },
  {
   "cell_type": "code",
   "execution_count": 17,
   "id": "4e42f1fe",
   "metadata": {},
   "outputs": [],
   "source": [
    "import os\n",
    "import re\n",
    "import json\n",
    "import random\n",
    "import pandas as pd"
   ]
  },
  {
   "cell_type": "code",
   "execution_count": 18,
   "id": "71836dd5",
   "metadata": {},
   "outputs": [],
   "source": [
    "# List of business types to generate domain names for\n",
    "business_types = [\n",
    "    # Food & Beverage\n",
    "    \"organic coffee shop\", \"vegan restaurant\", \"fast-food chain\", \"food truck business\",\n",
    "    \"fine dining restaurant\", \"ice cream parlor\", \"bakery and pastry shop\",\n",
    "    # Tech & Digital\n",
    "    \"AI consulting firm\", \"blockchain startup\", \"mobile app development company\",\n",
    "    \"cybersecurity service provider\", \"web design agency\", \"cloud solutions provider\",\n",
    "    # Health & Fitness\n",
    "    \"fitness center\", \"yoga studio\", \"mental health counseling service\", \"nutrition coaching\",\n",
    "    \"physiotherapy clinic\", \"telemedicine platform\",\n",
    "    # Retail & E-commerce\n",
    "    \"online bookstore\", \"luxury watch retailer\", \"fashion boutique\", \"electronics store\",\n",
    "    \"home decor shop\", \"organic skincare brand\",\n",
    "    # Education\n",
    "    \"online learning platform\", \"language tutoring service\", \"coding bootcamp\",\n",
    "    \"educational game developer\", \"university consultancy\",\n",
    "    # Entertainment & Media\n",
    "    \"gaming cafe\", \"video streaming platform\", \"podcast production company\",\n",
    "    \"film production house\", \"music label\", \"digital art marketplace\",\n",
    "    # Services\n",
    "    \"digital marketing agency\", \"SEO optimization firm\", \"legal consultancy\",\n",
    "    \"real estate agency\", \"wedding photography business\", \"event planning company\",\n",
    "    # Finance\n",
    "    \"cryptocurrency exchange\", \"personal finance advisory\", \"insurance brokerage\",\n",
    "    \"micro-lending platform\", \"investment firm\",\n",
    "    # Nonprofit & Social\n",
    "    \"nonprofit for education\", \"animal rescue organization\", \"environmental NGO\",\n",
    "    \"health awareness campaign\", \"youth development program\",\n",
    "    # Miscellaneous\n",
    "    \"car rental service\", \"luxury travel agency\", \"pet grooming service\", \"home cleaning service\",\n",
    "    \"coworking space\", \"VR gaming center\"\n",
    "]"
   ]
  },
  {
   "cell_type": "code",
   "execution_count": 19,
   "id": "6296396d",
   "metadata": {},
   "outputs": [],
   "source": [
    "# Add edge cases\n",
    "edge_cases = [\n",
    "    \"coffee\",  # very short\n",
    "    \"AI-powered healthcare solution for elderly in rural areas\",  # very long\n",
    "    \"startup for pets\",  # ambiguous\n",
    "    \"education platform & training program with global outreach\"  # complex\n",
    "]\n",
    "business_types.extend(edge_cases)"
   ]
  },
  {
   "cell_type": "code",
   "execution_count": 20,
   "id": "f5e7890c",
   "metadata": {},
   "outputs": [],
   "source": [
    "# List of domain suffixes\n",
    "domain_suffixes = [\".com\", \".net\", \".org\", \".co\", \".ai\", \".io\", \".biz\", \".store\"]"
   ]
  },
  {
   "cell_type": "code",
   "execution_count": 21,
   "id": "940b8986",
   "metadata": {},
   "outputs": [],
   "source": [
    "#function to generate domain name suggestions based on business description\n",
    "stopwords = {\"the\", \"and\", \"in\", \"for\", \"with\", \"on\", \"of\"}\n",
    "\n",
    "def clean_keywords(text):\n",
    "    words = [w.lower() for w in text.split() if w.lower() not in stopwords]\n",
    "    return words[:3]  # take up to 3 keywords\n",
    "\n",
    "def brandify(word):\n",
    "    suffixes = [\"ify\", \"hub\", \"zone\", \"io\", \"base\", \"link\"]\n",
    "    return word + random.choice(suffixes)\n",
    "\n",
    "def generate_domain_suggestions(description):\n",
    "    keywords = clean_keywords(description)\n",
    "    suggestions = set()\n",
    "\n",
    "    while len(suggestions) < 3:\n",
    "        if random.random() > 0.5 and len(keywords) >= 2:\n",
    "            # Combine two keywords\n",
    "            base_name = keywords[0] + keywords[1]\n",
    "        else:\n",
    "            # Use brand-style name\n",
    "            base_name = brandify(random.choice(keywords))\n",
    "\n",
    "        domain = base_name + random.choice(domain_suffixes)\n",
    "        suggestions.add(re.sub(r'[^a-z0-9\\.]', '', domain))  # remove invalid chars\n",
    "\n",
    "    return list(suggestions)"
   ]
  },
  {
   "cell_type": "code",
   "execution_count": 22,
   "id": "2b6d5d55",
   "metadata": {},
   "outputs": [
    {
     "name": "stdout",
     "output_type": "stream",
     "text": [
      "Dataset created with 1000 examples.\n"
     ]
    }
   ],
   "source": [
    "inappropriate_keywords = {\"adult\", \"porn\", \"gambling\", \"violence\"}\n",
    "\n",
    "def is_safe(description):\n",
    "    return not any(word in description.lower() for word in inappropriate_keywords)\n",
    "\n",
    "dataset = []\n",
    "for i in range(1000):\n",
    "    description = random.choice(business_types) + \" in \" + random.choice(\n",
    "        [\"New York\", \"Paris\", \"Tokyo\", \"London\", \"Berlin\", \"Dubai\", \"San Francisco\", \"Toronto\", \"Singapore\"]\n",
    "    )\n",
    "\n",
    "    if not is_safe(description):\n",
    "        continue  # skip unsafe examples\n",
    "\n",
    "    domains = generate_domain_suggestions(description)\n",
    "\n",
    "    dataset.append({\n",
    "        \"business_description\": description,\n",
    "        \"expected_domain_names\": domains\n",
    "    })\n",
    "\n",
    "print(f\"Dataset created with {len(dataset)} examples.\")"
   ]
  },
  {
   "cell_type": "code",
   "execution_count": 23,
   "id": "e0ca0119",
   "metadata": {},
   "outputs": [
    {
     "name": "stdout",
     "output_type": "stream",
     "text": [
      "Dataset saved in JSON and CSV formats.\n"
     ]
    }
   ],
   "source": [
    "# Save as JSON\n",
    "with open(\"../data/synthetic_dataset_v1.json\", \"w\") as f:\n",
    "    json.dump(dataset, f, indent=2)\n",
    "\n",
    "# Save as CSV\n",
    "df = pd.DataFrame(dataset)\n",
    "df.to_csv(\"../data/synthetic_dataset_v1.csv\", index=False)\n",
    "\n",
    "print(\"Dataset saved in JSON and CSV formats.\")"
   ]
  }
 ],
 "metadata": {
  "kernelspec": {
   "display_name": "base",
   "language": "python",
   "name": "python3"
  },
  "language_info": {
   "codemirror_mode": {
    "name": "ipython",
    "version": 3
   },
   "file_extension": ".py",
   "mimetype": "text/x-python",
   "name": "python",
   "nbconvert_exporter": "python",
   "pygments_lexer": "ipython3",
   "version": "3.12.7"
  }
 },
 "nbformat": 4,
 "nbformat_minor": 5
}
